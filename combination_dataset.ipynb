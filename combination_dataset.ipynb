{
  "cells": [
    {
      "cell_type": "code",
      "source": [
        "\n",
        "import pandas as pd\n",
        "\n",
        "try:\n",
        "    df1 = pd.read_csv('/content/Enron_1092_informal_to_formal.csv')\n",
        "except FileNotFoundError:\n",
        "    print(\"Error: '/content/Enron_1092_informal_to_formal.csv' not found.\")\n",
        "    df1 = pd.DataFrame()  # Create an empty DataFrame if the file is not found\n",
        "\n",
        "try:\n",
        "    df2 = pd.read_excel('/content/Ourself_NLP_dataset.xlsx')\n",
        "except FileNotFoundError:\n",
        "    print(\"Error: '/content/Ourself_NLP_dataset.xlsx' not found.\")\n",
        "    df2 = pd.DataFrame()\n",
        "\n",
        "try:\n",
        "    df3 = pd.read_csv('/content/informal_to_formal_from_enron.csv')\n",
        "except FileNotFoundError:\n",
        "    print(\"Error: '/content/informal_to_formal_from_enron.csv' not found.\")\n",
        "    df3 = pd.DataFrame()\n",
        "\n",
        "\n",
        "# Concatenate the DataFrames\n",
        "combined_df = pd.concat([df1, df2, df3], ignore_index=True)\n",
        "\n",
        "# Print or save the combined DataFrame\n",
        "print(combined_df.head()) # Display first few rows\n",
        "#combined_df.to_csv('combined_dataset.csv', index=False) # Save to a new CSV file\n"
      ],
      "metadata": {
        "colab": {
          "base_uri": "https://localhost:8080/"
        },
        "id": "auaYvfkN8FMz",
        "outputId": "b25eba8a-bdf3-473b-8ab2-0b857ab8d028"
      },
      "execution_count": null,
      "outputs": [
        {
          "output_type": "stream",
          "name": "stdout",
          "text": [
            "                                            Informal  \\\n",
            "0  dear all due to the delay in ubs windows accou...   \n",
            "1  i wanna put this old dog out of its misery bef...   \n",
            "2  hi there want to see some nasty hot action cum...   \n",
            "3  hello mark i have attached an outline that wil...   \n",
            "4  cst to brett r peter n tracee cc kelly h sarah...   \n",
            "\n",
            "                                              Formal  \n",
            "0  dear all due to the delay in ubs windows accou...  \n",
            "1  i would like to put this old dog out of its mi...  \n",
            "2  hi there want to see some nasty hot action cum...  \n",
            "3  hello mark i have attached an outline that wil...  \n",
            "4  cst to brett r peter n tracee cc kelly h sarah...  \n"
          ]
        }
      ]
    },
    {
      "cell_type": "code",
      "source": [
        "\n",
        "import pandas as pd\n",
        "\n",
        "\n",
        "def combine_datasets():\n",
        "    try:\n",
        "        df1 = pd.read_csv('/content/Enron_1092_informal_to_formal.csv')\n",
        "    except FileNotFoundError:\n",
        "        print(\"Error: '/content/Enron_1092_informal_to_formal.csv' not found.\")\n",
        "        df1 = pd.DataFrame()  # Create an empty DataFrame if the file is not found\n",
        "\n",
        "    try:\n",
        "        df2 = pd.read_excel('/content/Ourself_NLP_dataset.xlsx')\n",
        "    except FileNotFoundError:\n",
        "        print(\"Error: '/content/Ourself_NLP_dataset.xlsx' not found.\")\n",
        "        df2 = pd.DataFrame()\n",
        "\n",
        "    try:\n",
        "        df3 = pd.read_csv('/content/informal_to_formal_from_enron.csv')\n",
        "    except FileNotFoundError:\n",
        "        print(\"Error: '/content/informal_to_formal_from_enron.csv' not found.\")\n",
        "        df3 = pd.DataFrame()\n",
        "\n",
        "\n",
        "    # Concatenate the DataFrames\n",
        "    combined_df = pd.concat([df1, df2, df3], ignore_index=True)\n",
        "\n",
        "    return combined_df\n",
        "\n",
        "# Example usage\n",
        "combined_data = combine_datasets()\n",
        "print(combined_data.head())\n",
        "combined_data.to_csv('nlpfinal.csv', index=False)\n"
      ],
      "metadata": {
        "colab": {
          "base_uri": "https://localhost:8080/"
        },
        "id": "2EwTibx58yWm",
        "outputId": "901dda01-e76f-4e80-ba1a-f43d5efc8863"
      },
      "execution_count": null,
      "outputs": [
        {
          "output_type": "stream",
          "name": "stdout",
          "text": [
            "                                            Informal  \\\n",
            "0  dear all due to the delay in ubs windows accou...   \n",
            "1  i wanna put this old dog out of its misery bef...   \n",
            "2  hi there want to see some nasty hot action cum...   \n",
            "3  hello mark i have attached an outline that wil...   \n",
            "4  cst to brett r peter n tracee cc kelly h sarah...   \n",
            "\n",
            "                                              Formal  \n",
            "0  dear all due to the delay in ubs windows accou...  \n",
            "1  i would like to put this old dog out of its mi...  \n",
            "2  hi there want to see some nasty hot action cum...  \n",
            "3  hello mark i have attached an outline that wil...  \n",
            "4  cst to brett r peter n tracee cc kelly h sarah...  \n"
          ]
        }
      ]
    }
  ],
  "metadata": {
    "colab": {
      "provenance": []
    },
    "kernelspec": {
      "display_name": "Python 3",
      "name": "python3"
    },
    "language_info": {
      "name": "python"
    }
  },
  "nbformat": 4,
  "nbformat_minor": 0
}