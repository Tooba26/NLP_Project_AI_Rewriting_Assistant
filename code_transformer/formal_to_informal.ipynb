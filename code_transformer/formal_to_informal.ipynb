{
 "cells": [
  {
   "cell_type": "code",
   "execution_count": 2,
   "id": "34bdf958-4fc2-40fa-9439-e3d9dcda22d5",
   "metadata": {},
   "outputs": [],
   "source": [
    "import torch\n",
    "import torch.nn as nn\n",
    "import torch.nn.functional as F\n",
    "from torch.utils.data import Dataset, DataLoader\n",
    "import pandas as pd\n",
    "import random, math, time\n",
    "from sklearn.model_selection import train_test_split\n",
    "import os\n",
    "import matplotlib.pyplot as plt\n"
   ]
  },
  {
   "cell_type": "code",
   "execution_count": 10,
   "id": "e8149982-db41-4b09-8e09-54f44d1aa2dc",
   "metadata": {},
   "outputs": [
    {
     "name": "stdout",
     "output_type": "stream",
     "text": [
      "cuda\n"
     ]
    }
   ],
   "source": [
    "device = torch.device('cuda' if torch.cuda.is_available() else 'cpu')\n",
    "print(device)"
   ]
  },
  {
   "cell_type": "code",
   "execution_count": 3,
   "id": "b4f6597c-718d-41ce-94b0-c34873844ca6",
   "metadata": {},
   "outputs": [],
   "source": [
    "df = pd.read_csv('nlpdf.csv', encoding=\"latin1\")"
   ]
  },
  {
   "cell_type": "code",
   "execution_count": 4,
   "id": "bfd7dd40-5198-4761-8e3c-15972cb43573",
   "metadata": {},
   "outputs": [
    {
     "data": {
      "text/html": [
       "<div>\n",
       "<style scoped>\n",
       "    .dataframe tbody tr th:only-of-type {\n",
       "        vertical-align: middle;\n",
       "    }\n",
       "\n",
       "    .dataframe tbody tr th {\n",
       "        vertical-align: top;\n",
       "    }\n",
       "\n",
       "    .dataframe thead th {\n",
       "        text-align: right;\n",
       "    }\n",
       "</style>\n",
       "<table border=\"1\" class=\"dataframe\">\n",
       "  <thead>\n",
       "    <tr style=\"text-align: right;\">\n",
       "      <th></th>\n",
       "      <th>Informal</th>\n",
       "      <th>Formal</th>\n",
       "    </tr>\n",
       "  </thead>\n",
       "  <tbody>\n",
       "    <tr>\n",
       "      <th>0</th>\n",
       "      <td>dear all due to the delay in ubs windows accou...</td>\n",
       "      <td>dear all due to the delay in ubs windows accou...</td>\n",
       "    </tr>\n",
       "    <tr>\n",
       "      <th>1</th>\n",
       "      <td>i wanna put this old dog out of its misery bef...</td>\n",
       "      <td>i would like to put this old dog out of its mi...</td>\n",
       "    </tr>\n",
       "    <tr>\n",
       "      <th>2</th>\n",
       "      <td>hi there want to see some nasty hot action cum...</td>\n",
       "      <td>hi there want to see some nasty hot action cum...</td>\n",
       "    </tr>\n",
       "    <tr>\n",
       "      <th>3</th>\n",
       "      <td>hello mark i have attached an outline that wil...</td>\n",
       "      <td>hello mark i have attached an outline that wil...</td>\n",
       "    </tr>\n",
       "    <tr>\n",
       "      <th>4</th>\n",
       "      <td>cst to brett r peter n tracee cc kelly h sarah...</td>\n",
       "      <td>cst to brett r peter n tracee cc kelly h sarah...</td>\n",
       "    </tr>\n",
       "  </tbody>\n",
       "</table>\n",
       "</div>"
      ],
      "text/plain": [
       "                                            Informal  \\\n",
       "0  dear all due to the delay in ubs windows accou...   \n",
       "1  i wanna put this old dog out of its misery bef...   \n",
       "2  hi there want to see some nasty hot action cum...   \n",
       "3  hello mark i have attached an outline that wil...   \n",
       "4  cst to brett r peter n tracee cc kelly h sarah...   \n",
       "\n",
       "                                              Formal  \n",
       "0  dear all due to the delay in ubs windows accou...  \n",
       "1  i would like to put this old dog out of its mi...  \n",
       "2  hi there want to see some nasty hot action cum...  \n",
       "3  hello mark i have attached an outline that wil...  \n",
       "4  cst to brett r peter n tracee cc kelly h sarah...  "
      ]
     },
     "execution_count": 4,
     "metadata": {},
     "output_type": "execute_result"
    }
   ],
   "source": [
    "df.head()"
   ]
  },
  {
   "cell_type": "code",
   "execution_count": 5,
   "id": "41b79ff7-9d19-4e28-85a7-bef7d204b88d",
   "metadata": {},
   "outputs": [],
   "source": [
    "# Select only the required columns\n",
    "selected_df = df[[\"Formal\", \"Informal\"]]\n",
    "\n",
    "# (Optional) Save to a new CSV\n",
    "selected_df.to_csv(\"formal_to_informal.csv\", index=False)"
   ]
  },
  {
   "cell_type": "code",
   "execution_count": 6,
   "id": "fc6bc697-25eb-45cb-8ef8-fdc086333602",
   "metadata": {},
   "outputs": [
    {
     "data": {
      "text/html": [
       "<div>\n",
       "<style scoped>\n",
       "    .dataframe tbody tr th:only-of-type {\n",
       "        vertical-align: middle;\n",
       "    }\n",
       "\n",
       "    .dataframe tbody tr th {\n",
       "        vertical-align: top;\n",
       "    }\n",
       "\n",
       "    .dataframe thead th {\n",
       "        text-align: right;\n",
       "    }\n",
       "</style>\n",
       "<table border=\"1\" class=\"dataframe\">\n",
       "  <thead>\n",
       "    <tr style=\"text-align: right;\">\n",
       "      <th></th>\n",
       "      <th>Formal</th>\n",
       "      <th>Informal</th>\n",
       "    </tr>\n",
       "  </thead>\n",
       "  <tbody>\n",
       "    <tr>\n",
       "      <th>0</th>\n",
       "      <td>dear all due to the delay in ubs windows accou...</td>\n",
       "      <td>dear all due to the delay in ubs windows accou...</td>\n",
       "    </tr>\n",
       "    <tr>\n",
       "      <th>1</th>\n",
       "      <td>i would like to put this old dog out of its mi...</td>\n",
       "      <td>i wanna put this old dog out of its misery bef...</td>\n",
       "    </tr>\n",
       "    <tr>\n",
       "      <th>2</th>\n",
       "      <td>hi there want to see some nasty hot action cum...</td>\n",
       "      <td>hi there want to see some nasty hot action cum...</td>\n",
       "    </tr>\n",
       "    <tr>\n",
       "      <th>3</th>\n",
       "      <td>hello mark i have attached an outline that wil...</td>\n",
       "      <td>hello mark i have attached an outline that wil...</td>\n",
       "    </tr>\n",
       "    <tr>\n",
       "      <th>4</th>\n",
       "      <td>cst to brett r peter n tracee cc kelly h sarah...</td>\n",
       "      <td>cst to brett r peter n tracee cc kelly h sarah...</td>\n",
       "    </tr>\n",
       "  </tbody>\n",
       "</table>\n",
       "</div>"
      ],
      "text/plain": [
       "                                              Formal  \\\n",
       "0  dear all due to the delay in ubs windows accou...   \n",
       "1  i would like to put this old dog out of its mi...   \n",
       "2  hi there want to see some nasty hot action cum...   \n",
       "3  hello mark i have attached an outline that wil...   \n",
       "4  cst to brett r peter n tracee cc kelly h sarah...   \n",
       "\n",
       "                                            Informal  \n",
       "0  dear all due to the delay in ubs windows accou...  \n",
       "1  i wanna put this old dog out of its misery bef...  \n",
       "2  hi there want to see some nasty hot action cum...  \n",
       "3  hello mark i have attached an outline that wil...  \n",
       "4  cst to brett r peter n tracee cc kelly h sarah...  "
      ]
     },
     "execution_count": 6,
     "metadata": {},
     "output_type": "execute_result"
    }
   ],
   "source": [
    "df = pd.read_csv(\"formal_to_informal.csv\")\n",
    "\n",
    "df.head()"
   ]
  },
  {
   "cell_type": "code",
   "execution_count": 7,
   "id": "5483cc2d-8a8e-4439-b39b-10a1b23b4981",
   "metadata": {},
   "outputs": [],
   "source": [
    "# Split: 80% train, 10% val, 10% test\n",
    "train_df, temp_df = train_test_split(df, test_size=0.2, random_state=42)\n",
    "val_df, test_df = train_test_split(temp_df, test_size=0.5, random_state=42)\n",
    "\n",
    "train_df.to_csv(\"train_formal_inf.csv\", index=False)\n",
    "val_df.to_csv(\"val_formal_inf.csv\", index=False)\n",
    "test_df.to_csv(\"test_formal_inf.csv\", index=False)\n"
   ]
  },
  {
   "cell_type": "code",
   "execution_count": 8,
   "id": "1b6b51b0-ad2f-444a-8de8-fc294077d559",
   "metadata": {},
   "outputs": [],
   "source": [
    "class EmailToneDataset(Dataset):\n",
    "    def __init__(self, filepath, tokenizer, max_len=100):\n",
    "        self.data = pd.read_csv(filepath)\n",
    "        self.tokenizer = tokenizer\n",
    "        self.max_len = max_len\n",
    "\n",
    "    def __len__(self):\n",
    "        return len(self.data)\n",
    "\n",
    "    def __getitem__(self, index):\n",
    "        formal = \"Formal: \" + self.data.iloc[index]['Formal']\n",
    "        informal = self.data.iloc[index]['Informal']\n",
    "\n",
    "        source = self.tokenizer(formal, padding=\"max_length\", truncation=True, max_length=self.max_len, return_tensors=\"pt\")\n",
    "        target = self.tokenizer(informal, padding=\"max_length\", truncation=True, max_length=self.max_len, return_tensors=\"pt\")\n",
    "\n",
    "        return {\n",
    "            'input_ids': source['input_ids'].squeeze(),\n",
    "            'attention_mask': source['attention_mask'].squeeze(),\n",
    "            'labels': target['input_ids'].squeeze()\n",
    "        }\n"
   ]
  },
  {
   "cell_type": "code",
   "execution_count": 11,
   "id": "de78e4b6-40d2-4948-a9da-61d1816f934b",
   "metadata": {},
   "outputs": [],
   "source": [
    "from transformers import T5Tokenizer, T5ForConditionalGeneration\n",
    "\n",
    "tokenizer = T5Tokenizer.from_pretrained(\"t5-base\")\n",
    "model = T5ForConditionalGeneration.from_pretrained(\"t5-base\").to(device)\n"
   ]
  },
  {
   "cell_type": "code",
   "execution_count": 12,
   "id": "63c13f64-4eec-4919-b5db-24f8c891ad7d",
   "metadata": {},
   "outputs": [],
   "source": [
    "from torch.optim import AdamW\n",
    "\n",
    "optimizer = AdamW(model.parameters(), lr=5e-5)\n",
    "\n",
    "def train_epoch(model, dataloader):\n",
    "    model.train()\n",
    "    total_loss = 0\n",
    "    for batch in dataloader:\n",
    "        input_ids = batch['input_ids'].to(device)\n",
    "        attention_mask = batch['attention_mask'].to(device)\n",
    "        labels = batch['labels'].to(device)\n",
    "\n",
    "        outputs = model(input_ids=input_ids, attention_mask=attention_mask, labels=labels)\n",
    "        loss = outputs.loss\n",
    "\n",
    "        loss.backward()\n",
    "        optimizer.step()\n",
    "        optimizer.zero_grad()\n",
    "\n",
    "        total_loss += loss.item()\n",
    "\n",
    "    return total_loss / len(dataloader)\n",
    "\n",
    "\n"
   ]
  },
  {
   "cell_type": "code",
   "execution_count": 13,
   "id": "f7c81ed6-567d-4504-8b7e-9228df0e9539",
   "metadata": {},
   "outputs": [],
   "source": [
    "def evaluate_loss(model, dataloader):\n",
    "    model.eval()\n",
    "    total_loss = 0\n",
    "    with torch.no_grad():\n",
    "        for batch in dataloader:\n",
    "            input_ids = batch['input_ids'].to(device)\n",
    "            attention_mask = batch['attention_mask'].to(device)\n",
    "            labels = batch['labels'].to(device)\n",
    "\n",
    "            outputs = model(input_ids=input_ids, attention_mask=attention_mask, labels=labels)\n",
    "            loss = outputs.loss\n",
    "            total_loss += loss.item()\n",
    "    return total_loss / len(dataloader)\n"
   ]
  },
  {
   "cell_type": "code",
   "execution_count": 14,
   "id": "378825aa-69b6-41c0-b277-09ebbde144a0",
   "metadata": {},
   "outputs": [],
   "source": [
    "train_dataset = EmailToneDataset(\"train_formal_inf.csv\", tokenizer)\n",
    "val_dataset = EmailToneDataset(\"val_formal_inf.csv\", tokenizer)\n",
    "test_dataset = EmailToneDataset(\"test_formal_inf.csv\", tokenizer)\n",
    "\n",
    "train_loader = DataLoader(train_dataset, batch_size=8, shuffle=True)\n",
    "val_loader = DataLoader(val_dataset, batch_size=8)\n",
    "test_loader = DataLoader(test_dataset, batch_size=8)\n"
   ]
  },
  {
   "cell_type": "code",
   "execution_count": 15,
   "id": "780cc810-7f15-43a9-80f5-6965d4d6ef6e",
   "metadata": {},
   "outputs": [
    {
     "name": "stderr",
     "output_type": "stream",
     "text": [
      "Passing a tuple of `past_key_values` is deprecated and will be removed in Transformers v4.48.0. You should pass an instance of `EncoderDecoderCache` instead, e.g. `past_key_values=EncoderDecoderCache.from_legacy_cache(past_key_values)`.\n"
     ]
    },
    {
     "name": "stdout",
     "output_type": "stream",
     "text": [
      "Epoch 1 | Train Loss: 0.3684 | Val Loss: 0.0478\n",
      "Epoch 2 | Train Loss: 0.0487 | Val Loss: 0.0343\n",
      "Epoch 3 | Train Loss: 0.0362 | Val Loss: 0.0282\n",
      "Epoch 4 | Train Loss: 0.0300 | Val Loss: 0.0245\n",
      "Epoch 5 | Train Loss: 0.0259 | Val Loss: 0.0224\n",
      "Epoch 6 | Train Loss: 0.0228 | Val Loss: 0.0209\n",
      "Epoch 7 | Train Loss: 0.0201 | Val Loss: 0.0184\n",
      "Epoch 8 | Train Loss: 0.0182 | Val Loss: 0.0183\n",
      "Epoch 9 | Train Loss: 0.0163 | Val Loss: 0.0174\n",
      "Epoch 10 | Train Loss: 0.0150 | Val Loss: 0.0172\n",
      "Epoch 11 | Train Loss: 0.0138 | Val Loss: 0.0176\n",
      "Epoch 12 | Train Loss: 0.0126 | Val Loss: 0.0176\n",
      "Epoch 13 | Train Loss: 0.0114 | Val Loss: 0.0178\n",
      "Early stopping triggered at epoch 13\n"
     ]
    },
    {
     "data": {
      "image/png": "[encoded data removed]",
      "text/plain": [
       "<Figure size 640x480 with 1 Axes>"
      ]
     },
     "metadata": {},
     "output_type": "display_data"
    }
   ],
   "source": [
    "import os\n",
    "import pandas as pd\n",
    "import matplotlib.pyplot as plt\n",
    "\n",
    "train_losses = []\n",
    "val_losses = []\n",
    "\n",
    "# Early stopping parameters\n",
    "best_val_loss = float('inf')\n",
    "patience = 3\n",
    "counter = 0\n",
    "\n",
    "for epoch in range(50):  # You can increase this if needed\n",
    "    train_loss = train_epoch(model, train_loader)\n",
    "    val_loss = evaluate_loss(model, val_loader)\n",
    "\n",
    "    train_losses.append({\"epoch\": epoch + 1, \"loss\": train_loss})\n",
    "    val_losses.append({\"epoch\": epoch + 1, \"loss\": val_loss})\n",
    "\n",
    "    print(f\"Epoch {epoch+1} | Train Loss: {train_loss:.4f} | Val Loss: {val_loss:.4f}\")\n",
    "\n",
    "    # Early stopping logic\n",
    "    if val_loss < best_val_loss:\n",
    "        best_val_loss = val_loss\n",
    "        counter = 0\n",
    "        # Optionally save the best model\n",
    "        torch.save(model.state_dict(), \"outputs4/best_model.pt\")\n",
    "    else:\n",
    "        counter += 1\n",
    "        if counter >= patience:\n",
    "            print(f\"Early stopping triggered at epoch {epoch+1}\")\n",
    "            break\n",
    "\n",
    "# Save to CSV\n",
    "os.makedirs(\"outputs3\", exist_ok=True)\n",
    "pd.DataFrame(train_losses).to_csv(\"outputs4/train_loss.csv\", index=False)\n",
    "pd.DataFrame(val_losses).to_csv(\"outputs4/val_loss.csv\", index=False)\n",
    "\n",
    "# Plot both\n",
    "plt.plot([d['epoch'] for d in train_losses], [d['loss'] for d in train_losses], label='Train Loss')\n",
    "plt.plot([d['epoch'] for d in val_losses], [d['loss'] for d in val_losses], label='Val Loss')\n",
    "plt.title(\"Training vs Validation Loss\")\n",
    "plt.xlabel(\"Epoch\")\n",
    "plt.ylabel(\"Loss\")\n",
    "plt.legend()\n",
    "plt.grid(True)\n",
    "plt.savefig(\"outputs4/loss_comparison.png\")\n",
    "plt.show()"
   ]
  },
  {
   "cell_type": "code",
   "execution_count": 16,
   "id": "953068d1-d122-4ee7-b014-c2d584d81dde",
   "metadata": {},
   "outputs": [
    {
     "data": {
      "text/plain": [
       "('outputs4/formal_informal_rewriter_model_updated/tokenizer_config.json',\n",
       " 'outputs4/formal_informal_rewriter_model_updated/special_tokens_map.json',\n",
       " 'outputs4/formal_informal_rewriter_model_updated/spiece.model',\n",
       " 'outputs4/formal_informal_rewriter_model_updated/added_tokens.json')"
      ]
     },
     "execution_count": 16,
     "metadata": {},
     "output_type": "execute_result"
    }
   ],
   "source": [
    "model.save_pretrained(\"outputs4/formal_informal_rewriter_model_updated\")\n",
    "tokenizer.save_pretrained(\"outputs4/formal_informal_rewriter_model_updated\")"
   ]
  },
  {
   "cell_type": "code",
   "execution_count": 18,
   "id": "429a46e4-010c-4ef6-bb0c-91af119acc33",
   "metadata": {},
   "outputs": [
    {
     "name": "stdout",
     "output_type": "stream",
     "text": [
      "Formal: wanna say that i want the document that i sent yesterday. I can't find it in my device\n"
     ]
    }
   ],
   "source": [
    "def rewrite_email(text):\n",
    "    input_text = \"Formal: \" + text\n",
    "    inputs = tokenizer(input_text, return_tensors=\"pt\", padding=True).to(device)\n",
    "    outputs = model.generate(**inputs, max_length=100)\n",
    "    return tokenizer.decode(outputs[0], skip_special_tokens=True)\n",
    "\n",
    "# Example\n",
    "informal_text = \"I would like to say that i want the document that i sent yesterday. I can't find it in my device\"\n",
    "print(\"Formal:\", rewrite_email(informal_text))\n"
   ]
  },
  {
   "cell_type": "code",
   "execution_count": 19,
   "id": "5dddb6d3-fe30-451a-aa6b-d02c711af3d6",
   "metadata": {},
   "outputs": [
    {
     "name": "stderr",
     "output_type": "stream",
     "text": [
      "[nltk_data] Downloading package punkt to /home/jupyter-\n",
      "[nltk_data]     st125404/nltk_data...\n",
      "[nltk_data]   Package punkt is already up-to-date!\n"
     ]
    }
   ],
   "source": [
    "import nltk\n",
    "from nltk.translate.bleu_score import sentence_bleu, SmoothingFunction\n",
    "from rouge_score import rouge_scorer\n",
    "\n",
    "nltk.download('punkt')\n",
    "\n",
    "smooth = SmoothingFunction().method4\n",
    "rouge = rouge_scorer.RougeScorer(['rouge1', 'rouge2', 'rougeL'], use_stemmer=True)\n"
   ]
  },
  {
   "cell_type": "code",
   "execution_count": 20,
   "id": "ac8a6085-b449-4e65-8451-aa3974b56c13",
   "metadata": {},
   "outputs": [],
   "source": [
    "def evaluate_model(model, tokenizer, dataset, num_samples=100):\n",
    "    model.eval()\n",
    "\n",
    "    bleu_scores = []\n",
    "    rouge1_scores = []\n",
    "    rouge2_scores = []\n",
    "    rougeL_scores = []\n",
    "\n",
    "    with torch.no_grad():\n",
    "        for i in range(min(num_samples, len(dataset))):\n",
    "            sample = dataset[i]\n",
    "            input_ids = sample['input_ids'].unsqueeze(0).to(device)\n",
    "            attention_mask = sample['attention_mask'].unsqueeze(0).to(device)\n",
    "\n",
    "            output = model.generate(input_ids=input_ids, attention_mask=attention_mask, max_length=100)\n",
    "            generated = tokenizer.decode(output[0], skip_special_tokens=True)\n",
    "\n",
    "            reference = tokenizer.decode(sample['labels'], skip_special_tokens=True)\n",
    "\n",
    "            # BLEU\n",
    "            ref_tokens = nltk.word_tokenize(reference)\n",
    "            gen_tokens = nltk.word_tokenize(generated)\n",
    "            bleu = sentence_bleu([ref_tokens], gen_tokens, smoothing_function=smooth)\n",
    "            bleu_scores.append(bleu)\n",
    "\n",
    "            # ROUGE\n",
    "            scores = rouge.score(generated, reference)\n",
    "            rouge1_scores.append(scores['rouge1'].fmeasure)\n",
    "            rouge2_scores.append(scores['rouge2'].fmeasure)\n",
    "            rougeL_scores.append(scores['rougeL'].fmeasure)\n",
    "\n",
    "    print(f\"BLEU Score: {sum(bleu_scores) / len(bleu_scores):.4f}\")\n",
    "    print(f\"ROUGE-1: {sum(rouge1_scores) / len(rouge1_scores):.4f}\")\n",
    "    print(f\"ROUGE-2: {sum(rouge2_scores) / len(rouge2_scores):.4f}\")\n",
    "    print(f\"ROUGE-L: {sum(rougeL_scores) / len(rougeL_scores):.4f}\")\n"
   ]
  },
  {
   "cell_type": "code",
   "execution_count": 21,
   "id": "d91cd364-c423-4013-8a4d-7cea055b0ab6",
   "metadata": {},
   "outputs": [
    {
     "data": {
      "text/plain": [
       "T5ForConditionalGeneration(\n",
       "  (shared): Embedding(32128, 768)\n",
       "  (encoder): T5Stack(\n",
       "    (embed_tokens): Embedding(32128, 768)\n",
       "    (block): ModuleList(\n",
       "      (0): T5Block(\n",
       "        (layer): ModuleList(\n",
       "          (0): T5LayerSelfAttention(\n",
       "            (SelfAttention): T5Attention(\n",
       "              (q): Linear(in_features=768, out_features=768, bias=False)\n",
       "              (k): Linear(in_features=768, out_features=768, bias=False)\n",
       "              (v): Linear(in_features=768, out_features=768, bias=False)\n",
       "              (o): Linear(in_features=768, out_features=768, bias=False)\n",
       "              (relative_attention_bias): Embedding(32, 12)\n",
       "            )\n",
       "            (layer_norm): T5LayerNorm()\n",
       "            (dropout): Dropout(p=0.1, inplace=False)\n",
       "          )\n",
       "          (1): T5LayerFF(\n",
       "            (DenseReluDense): T5DenseActDense(\n",
       "              (wi): Linear(in_features=768, out_features=3072, bias=False)\n",
       "              (wo): Linear(in_features=3072, out_features=768, bias=False)\n",
       "              (dropout): Dropout(p=0.1, inplace=False)\n",
       "              (act): ReLU()\n",
       "            )\n",
       "            (layer_norm): T5LayerNorm()\n",
       "            (dropout): Dropout(p=0.1, inplace=False)\n",
       "          )\n",
       "        )\n",
       "      )\n",
       "      (1-11): 11 x T5Block(\n",
       "        (layer): ModuleList(\n",
       "          (0): T5LayerSelfAttention(\n",
       "            (SelfAttention): T5Attention(\n",
       "              (q): Linear(in_features=768, out_features=768, bias=False)\n",
       "              (k): Linear(in_features=768, out_features=768, bias=False)\n",
       "              (v): Linear(in_features=768, out_features=768, bias=False)\n",
       "              (o): Linear(in_features=768, out_features=768, bias=False)\n",
       "            )\n",
       "            (layer_norm): T5LayerNorm()\n",
       "            (dropout): Dropout(p=0.1, inplace=False)\n",
       "          )\n",
       "          (1): T5LayerFF(\n",
       "            (DenseReluDense): T5DenseActDense(\n",
       "              (wi): Linear(in_features=768, out_features=3072, bias=False)\n",
       "              (wo): Linear(in_features=3072, out_features=768, bias=False)\n",
       "              (dropout): Dropout(p=0.1, inplace=False)\n",
       "              (act): ReLU()\n",
       "            )\n",
       "            (layer_norm): T5LayerNorm()\n",
       "            (dropout): Dropout(p=0.1, inplace=False)\n",
       "          )\n",
       "        )\n",
       "      )\n",
       "    )\n",
       "    (final_layer_norm): T5LayerNorm()\n",
       "    (dropout): Dropout(p=0.1, inplace=False)\n",
       "  )\n",
       "  (decoder): T5Stack(\n",
       "    (embed_tokens): Embedding(32128, 768)\n",
       "    (block): ModuleList(\n",
       "      (0): T5Block(\n",
       "        (layer): ModuleList(\n",
       "          (0): T5LayerSelfAttention(\n",
       "            (SelfAttention): T5Attention(\n",
       "              (q): Linear(in_features=768, out_features=768, bias=False)\n",
       "              (k): Linear(in_features=768, out_features=768, bias=False)\n",
       "              (v): Linear(in_features=768, out_features=768, bias=False)\n",
       "              (o): Linear(in_features=768, out_features=768, bias=False)\n",
       "              (relative_attention_bias): Embedding(32, 12)\n",
       "            )\n",
       "            (layer_norm): T5LayerNorm()\n",
       "            (dropout): Dropout(p=0.1, inplace=False)\n",
       "          )\n",
       "          (1): T5LayerCrossAttention(\n",
       "            (EncDecAttention): T5Attention(\n",
       "              (q): Linear(in_features=768, out_features=768, bias=False)\n",
       "              (k): Linear(in_features=768, out_features=768, bias=False)\n",
       "              (v): Linear(in_features=768, out_features=768, bias=False)\n",
       "              (o): Linear(in_features=768, out_features=768, bias=False)\n",
       "            )\n",
       "            (layer_norm): T5LayerNorm()\n",
       "            (dropout): Dropout(p=0.1, inplace=False)\n",
       "          )\n",
       "          (2): T5LayerFF(\n",
       "            (DenseReluDense): T5DenseActDense(\n",
       "              (wi): Linear(in_features=768, out_features=3072, bias=False)\n",
       "              (wo): Linear(in_features=3072, out_features=768, bias=False)\n",
       "              (dropout): Dropout(p=0.1, inplace=False)\n",
       "              (act): ReLU()\n",
       "            )\n",
       "            (layer_norm): T5LayerNorm()\n",
       "            (dropout): Dropout(p=0.1, inplace=False)\n",
       "          )\n",
       "        )\n",
       "      )\n",
       "      (1-11): 11 x T5Block(\n",
       "        (layer): ModuleList(\n",
       "          (0): T5LayerSelfAttention(\n",
       "            (SelfAttention): T5Attention(\n",
       "              (q): Linear(in_features=768, out_features=768, bias=False)\n",
       "              (k): Linear(in_features=768, out_features=768, bias=False)\n",
       "              (v): Linear(in_features=768, out_features=768, bias=False)\n",
       "              (o): Linear(in_features=768, out_features=768, bias=False)\n",
       "            )\n",
       "            (layer_norm): T5LayerNorm()\n",
       "            (dropout): Dropout(p=0.1, inplace=False)\n",
       "          )\n",
       "          (1): T5LayerCrossAttention(\n",
       "            (EncDecAttention): T5Attention(\n",
       "              (q): Linear(in_features=768, out_features=768, bias=False)\n",
       "              (k): Linear(in_features=768, out_features=768, bias=False)\n",
       "              (v): Linear(in_features=768, out_features=768, bias=False)\n",
       "              (o): Linear(in_features=768, out_features=768, bias=False)\n",
       "            )\n",
       "            (layer_norm): T5LayerNorm()\n",
       "            (dropout): Dropout(p=0.1, inplace=False)\n",
       "          )\n",
       "          (2): T5LayerFF(\n",
       "            (DenseReluDense): T5DenseActDense(\n",
       "              (wi): Linear(in_features=768, out_features=3072, bias=False)\n",
       "              (wo): Linear(in_features=3072, out_features=768, bias=False)\n",
       "              (dropout): Dropout(p=0.1, inplace=False)\n",
       "              (act): ReLU()\n",
       "            )\n",
       "            (layer_norm): T5LayerNorm()\n",
       "            (dropout): Dropout(p=0.1, inplace=False)\n",
       "          )\n",
       "        )\n",
       "      )\n",
       "    )\n",
       "    (final_layer_norm): T5LayerNorm()\n",
       "    (dropout): Dropout(p=0.1, inplace=False)\n",
       "  )\n",
       "  (lm_head): Linear(in_features=768, out_features=32128, bias=False)\n",
       ")"
      ]
     },
     "execution_count": 21,
     "metadata": {},
     "output_type": "execute_result"
    }
   ],
   "source": [
    "from transformers import T5ForConditionalGeneration, T5Tokenizer\n",
    "\n",
    "model_path = \"outputs4/formal_informal_rewriter_model_updated\"\n",
    "tokenizer = T5Tokenizer.from_pretrained(model_path)\n",
    "model = T5ForConditionalGeneration.from_pretrained(model_path).to(device)\n",
    "\n",
    "model.eval()  # Set to eval mode"
   ]
  },
  {
   "cell_type": "code",
   "execution_count": 22,
   "id": "ddfeaa51-7ca2-41ac-bfb0-e9bb2ede69cb",
   "metadata": {},
   "outputs": [
    {
     "name": "stderr",
     "output_type": "stream",
     "text": [
      "[nltk_data] Downloading package punkt_tab to /home/jupyter-\n",
      "[nltk_data]     st125404/nltk_data...\n",
      "[nltk_data]   Package punkt_tab is already up-to-date!\n"
     ]
    },
    {
     "data": {
      "text/plain": [
       "True"
      ]
     },
     "execution_count": 22,
     "metadata": {},
     "output_type": "execute_result"
    }
   ],
   "source": [
    "import nltk\n",
    "\n",
    "nltk.download('punkt_tab')"
   ]
  },
  {
   "cell_type": "code",
   "execution_count": 23,
   "id": "9ae51a82-7698-4d89-a4b1-62792318e060",
   "metadata": {},
   "outputs": [
    {
     "name": "stdout",
     "output_type": "stream",
     "text": [
      "BLEU Score: 0.8898\n",
      "ROUGE-1: 0.9482\n",
      "ROUGE-2: 0.9236\n",
      "ROUGE-L: 0.9482\n"
     ]
    }
   ],
   "source": [
    "evaluate_model(model, tokenizer, test_dataset, num_samples=100)\n"
   ]
  },
  {
   "cell_type": "code",
   "execution_count": null,
   "id": "23b41bf3-c133-4950-9648-13c0a627ec76",
   "metadata": {},
   "outputs": [],
   "source": []
  }
 ],
 "metadata": {
  "kernelspec": {
   "display_name": "Python 3 (ipykernel)",
   "language": "python",
   "name": "python3"
  },
  "language_info": {
   "codemirror_mode": {
    "name": "ipython",
    "version": 3
   },
   "file_extension": ".py",
   "mimetype": "text/x-python",
   "name": "python",
   "nbconvert_exporter": "python",
   "pygments_lexer": "ipython3",
   "version": "3.12.6"
  }
 },
 "nbformat": 4,
 "nbformat_minor": 5
}
