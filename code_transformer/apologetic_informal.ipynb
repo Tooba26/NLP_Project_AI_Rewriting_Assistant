{
 "cells": [
  {
   "cell_type": "code",
   "execution_count": 2,
   "id": "c565373f-25a0-4ead-a7fd-a61e4fa6a752",
   "metadata": {},
   "outputs": [
    {
     "name": "stdout",
     "output_type": "stream",
     "text": [
      "cuda\n"
     ]
    }
   ],
   "source": [
    "import torch\n",
    "import torch.nn as nn\n",
    "import torch.nn.functional as F\n",
    "from torch.utils.data import Dataset, DataLoader\n",
    "import pandas as pd\n",
    "import random, math, time\n",
    "from sklearn.model_selection import train_test_split\n",
    "import os\n",
    "import matplotlib.pyplot as plt\n",
    "\n",
    "device = torch.device('cuda' if torch.cuda.is_available() else 'cpu')\n",
    "print(device)\n"
   ]
  },
  {
   "cell_type": "code",
   "execution_count": 3,
   "id": "daa920be-63df-4cce-a205-43056065a530",
   "metadata": {},
   "outputs": [],
   "source": [
    "# df = pd.read_csv('Variant_Apologetic_Emails_with_Abbreviation_Expansion.csv', encoding=\"latin1\")"
   ]
  },
  {
   "cell_type": "code",
   "execution_count": 4,
   "id": "3556990f-c23b-44b1-babf-353c20b4736c",
   "metadata": {},
   "outputs": [],
   "source": [
    "# df.head()"
   ]
  },
  {
   "cell_type": "code",
   "execution_count": 5,
   "id": "8e5a3d2d-1c0f-4492-a40e-8aa0d1febb13",
   "metadata": {},
   "outputs": [],
   "source": [
    "# # Select only the required columns\n",
    "# selected_df = df[[\"Apologetic_Variant_Formal\", \"Informal\"]]\n",
    "\n",
    "# # (Optional) Save to a new CSV\n",
    "# selected_df.to_csv(\"apologetic_informal_only.csv\", index=False)"
   ]
  },
  {
   "cell_type": "code",
   "execution_count": 6,
   "id": "a26f5e61-8415-4b9b-9ead-92dd542e9d9a",
   "metadata": {},
   "outputs": [
    {
     "data": {
      "text/html": [
       "<div>\n",
       "<style scoped>\n",
       "    .dataframe tbody tr th:only-of-type {\n",
       "        vertical-align: middle;\n",
       "    }\n",
       "\n",
       "    .dataframe tbody tr th {\n",
       "        vertical-align: top;\n",
       "    }\n",
       "\n",
       "    .dataframe thead th {\n",
       "        text-align: right;\n",
       "    }\n",
       "</style>\n",
       "<table border=\"1\" class=\"dataframe\">\n",
       "  <thead>\n",
       "    <tr style=\"text-align: right;\">\n",
       "      <th></th>\n",
       "      <th>Apologetic_Variant_Formal</th>\n",
       "      <th>Informal</th>\n",
       "    </tr>\n",
       "  </thead>\n",
       "  <tbody>\n",
       "    <tr>\n",
       "      <th>0</th>\n",
       "      <td>I sincerely apologize for the inconvenience. D...</td>\n",
       "      <td>dear all due to the delay in ubs windows accou...</td>\n",
       "    </tr>\n",
       "    <tr>\n",
       "      <th>1</th>\n",
       "      <td>I sincerely apologize for the inconvenience. I...</td>\n",
       "      <td>i wanna put this old dog out of its misery bef...</td>\n",
       "    </tr>\n",
       "    <tr>\n",
       "      <th>2</th>\n",
       "      <td>My apologies for any trouble caused. Hi there ...</td>\n",
       "      <td>hi there want to see some nasty hot action cum...</td>\n",
       "    </tr>\n",
       "    <tr>\n",
       "      <th>3</th>\n",
       "      <td>I sincerely apologize for the inconvenience. H...</td>\n",
       "      <td>hello mark i have attached an outline that wil...</td>\n",
       "    </tr>\n",
       "    <tr>\n",
       "      <th>4</th>\n",
       "      <td>I regret any inconvenience caused. Central sta...</td>\n",
       "      <td>cst to brett r peter n tracee cc kelly h sarah...</td>\n",
       "    </tr>\n",
       "  </tbody>\n",
       "</table>\n",
       "</div>"
      ],
      "text/plain": [
       "                           Apologetic_Variant_Formal  \\\n",
       "0  I sincerely apologize for the inconvenience. D...   \n",
       "1  I sincerely apologize for the inconvenience. I...   \n",
       "2  My apologies for any trouble caused. Hi there ...   \n",
       "3  I sincerely apologize for the inconvenience. H...   \n",
       "4  I regret any inconvenience caused. Central sta...   \n",
       "\n",
       "                                            Informal  \n",
       "0  dear all due to the delay in ubs windows accou...  \n",
       "1  i wanna put this old dog out of its misery bef...  \n",
       "2  hi there want to see some nasty hot action cum...  \n",
       "3  hello mark i have attached an outline that wil...  \n",
       "4  cst to brett r peter n tracee cc kelly h sarah...  "
      ]
     },
     "execution_count": 6,
     "metadata": {},
     "output_type": "execute_result"
    }
   ],
   "source": [
    "df = pd.read_csv(\"apologetic_informal_only.csv\")\n",
    "\n",
    "df.head()"
   ]
  },
  {
   "cell_type": "code",
   "execution_count": 7,
   "id": "7b6cb099-d8d6-4282-ad78-889424114215",
   "metadata": {},
   "outputs": [],
   "source": [
    "# # Split: 80% train, 10% val, 10% test\n",
    "# train_df, temp_df = train_test_split(df, test_size=0.2, random_state=42)\n",
    "# val_df, test_df = train_test_split(temp_df, test_size=0.5, random_state=42)\n",
    "\n",
    "# train_df.to_csv(\"train_informal_ap.csv\", index=False)\n",
    "# val_df.to_csv(\"val_informal_ap.csv\", index=False)\n",
    "# test_df.to_csv(\"test_informal_ap.csv\", index=False)\n"
   ]
  },
  {
   "cell_type": "code",
   "execution_count": 8,
   "id": "dc06ff39-be94-466b-9e83-97dee5159397",
   "metadata": {},
   "outputs": [],
   "source": [
    "class EmailToneDataset(Dataset):\n",
    "    def __init__(self, filepath, tokenizer, max_len=100):\n",
    "        self.data = pd.read_csv(filepath)\n",
    "        self.tokenizer = tokenizer\n",
    "        self.max_len = max_len\n",
    "\n",
    "    def __len__(self):\n",
    "        return len(self.data)\n",
    "\n",
    "    def __getitem__(self, index):\n",
    "        apology = \"Apologetic: \" + self.data.iloc[index]['Apologetic_Variant_Formal']\n",
    "        informal = self.data.iloc[index]['Informal']\n",
    "\n",
    "        source = self.tokenizer(apology, padding=\"max_length\", truncation=True, max_length=self.max_len, return_tensors=\"pt\")\n",
    "        target = self.tokenizer(informal, padding=\"max_length\", truncation=True, max_length=self.max_len, return_tensors=\"pt\")\n",
    "\n",
    "        return {\n",
    "            'input_ids': source['input_ids'].squeeze(),\n",
    "            'attention_mask': source['attention_mask'].squeeze(),\n",
    "            'labels': target['input_ids'].squeeze()\n",
    "        }\n"
   ]
  },
  {
   "cell_type": "code",
   "execution_count": 9,
   "id": "55c1782b-8233-4dc1-bb58-95c313a9f13b",
   "metadata": {},
   "outputs": [
    {
     "name": "stderr",
     "output_type": "stream",
     "text": [
      "2025-04-25 05:39:01.338757: E external/local_xla/xla/stream_executor/cuda/cuda_fft.cc:467] Unable to register cuFFT factory: Attempting to register factory for plugin cuFFT when one has already been registered\n",
      "WARNING: All log messages before absl::InitializeLog() is called are written to STDERR\n",
      "E0000 00:00:1745559541.361249 1454238 cuda_dnn.cc:8579] Unable to register cuDNN factory: Attempting to register factory for plugin cuDNN when one has already been registered\n",
      "E0000 00:00:1745559541.368199 1454238 cuda_blas.cc:1407] Unable to register cuBLAS factory: Attempting to register factory for plugin cuBLAS when one has already been registered\n",
      "W0000 00:00:1745559541.387284 1454238 computation_placer.cc:177] computation placer already registered. Please check linkage and avoid linking the same target more than once.\n",
      "W0000 00:00:1745559541.387298 1454238 computation_placer.cc:177] computation placer already registered. Please check linkage and avoid linking the same target more than once.\n",
      "W0000 00:00:1745559541.387300 1454238 computation_placer.cc:177] computation placer already registered. Please check linkage and avoid linking the same target more than once.\n",
      "W0000 00:00:1745559541.387302 1454238 computation_placer.cc:177] computation placer already registered. Please check linkage and avoid linking the same target more than once.\n",
      "2025-04-25 05:39:01.393726: I tensorflow/core/platform/cpu_feature_guard.cc:210] This TensorFlow binary is optimized to use available CPU instructions in performance-critical operations.\n",
      "To enable the following instructions: AVX2 FMA, in other operations, rebuild TensorFlow with the appropriate compiler flags.\n",
      "You are using the default legacy behaviour of the <class 'transformers.models.t5.tokenization_t5.T5Tokenizer'>. This is expected, and simply means that the `legacy` (previous) behavior will be used so nothing changes for you. If you want to use the new behaviour, set `legacy=False`. This should only be set if you understand what it means, and thoroughly read the reason why this was added as explained in https://github.com/huggingface/transformers/pull/24565\n"
     ]
    }
   ],
   "source": [
    "from transformers import T5Tokenizer, T5ForConditionalGeneration\n",
    "\n",
    "tokenizer = T5Tokenizer.from_pretrained(\"t5-base\")\n",
    "model = T5ForConditionalGeneration.from_pretrained(\"t5-base\").to(device)\n"
   ]
  },
  {
   "cell_type": "code",
   "execution_count": 10,
   "id": "8943461c-d277-4016-b07e-242b161bda88",
   "metadata": {},
   "outputs": [],
   "source": [
    "from torch.optim import AdamW\n",
    "\n",
    "optimizer = AdamW(model.parameters(), lr=5e-5)\n",
    "\n",
    "def train_epoch(model, dataloader):\n",
    "    model.train()\n",
    "    total_loss = 0\n",
    "    for batch in dataloader:\n",
    "        input_ids = batch['input_ids'].to(device)\n",
    "        attention_mask = batch['attention_mask'].to(device)\n",
    "        labels = batch['labels'].to(device)\n",
    "\n",
    "        outputs = model(input_ids=input_ids, attention_mask=attention_mask, labels=labels)\n",
    "        loss = outputs.loss\n",
    "\n",
    "        loss.backward()\n",
    "        optimizer.step()\n",
    "        optimizer.zero_grad()\n",
    "\n",
    "        total_loss += loss.item()\n",
    "\n",
    "    return total_loss / len(dataloader)"
   ]
  },
  {
   "cell_type": "code",
   "execution_count": 11,
   "id": "dff6fbe6-1ac3-4e9c-b838-e70f24548142",
   "metadata": {},
   "outputs": [],
   "source": [
    "def evaluate_loss(model, dataloader):\n",
    "    model.eval()\n",
    "    total_loss = 0\n",
    "    with torch.no_grad():\n",
    "        for batch in dataloader:\n",
    "            input_ids = batch['input_ids'].to(device)\n",
    "            attention_mask = batch['attention_mask'].to(device)\n",
    "            labels = batch['labels'].to(device)\n",
    "\n",
    "            outputs = model(input_ids=input_ids, attention_mask=attention_mask, labels=labels)\n",
    "            loss = outputs.loss\n",
    "            total_loss += loss.item()\n",
    "    return total_loss / len(dataloader)\n"
   ]
  },
  {
   "cell_type": "code",
   "execution_count": 12,
   "id": "0357a3aa-ce34-40d8-8537-4eb441acea36",
   "metadata": {},
   "outputs": [],
   "source": [
    "train_dataset = EmailToneDataset(\"train_informal_ap.csv\", tokenizer)\n",
    "val_dataset = EmailToneDataset(\"val_informal_ap.csv\", tokenizer)\n",
    "test_dataset = EmailToneDataset(\"test_informal_ap.csv\", tokenizer)\n",
    "\n",
    "train_loader = DataLoader(train_dataset, batch_size=8, shuffle=True)\n",
    "val_loader = DataLoader(val_dataset, batch_size=8)\n",
    "test_loader = DataLoader(test_dataset, batch_size=8)\n"
   ]
  },
  {
   "cell_type": "code",
   "execution_count": 13,
   "id": "178bd412-a0eb-471e-8830-028e42ee25c8",
   "metadata": {},
   "outputs": [
    {
     "name": "stderr",
     "output_type": "stream",
     "text": [
      "Passing a tuple of `past_key_values` is deprecated and will be removed in Transformers v4.48.0. You should pass an instance of `EncoderDecoderCache` instead, e.g. `past_key_values=EncoderDecoderCache.from_legacy_cache(past_key_values)`.\n"
     ]
    },
    {
     "name": "stdout",
     "output_type": "stream",
     "text": [
      "Epoch 1 | Train Loss: 0.3770 | Val Loss: 0.0572\n",
      "Epoch 2 | Train Loss: 0.0546 | Val Loss: 0.0404\n",
      "Epoch 3 | Train Loss: 0.0416 | Val Loss: 0.0330\n",
      "Epoch 4 | Train Loss: 0.0338 | Val Loss: 0.0286\n",
      "Epoch 5 | Train Loss: 0.0292 | Val Loss: 0.0259\n",
      "Epoch 6 | Train Loss: 0.0250 | Val Loss: 0.0246\n",
      "Epoch 7 | Train Loss: 0.0223 | Val Loss: 0.0238\n",
      "Epoch 8 | Train Loss: 0.0203 | Val Loss: 0.0226\n",
      "Epoch 9 | Train Loss: 0.0185 | Val Loss: 0.0221\n",
      "Epoch 10 | Train Loss: 0.0171 | Val Loss: 0.0225\n",
      "Epoch 11 | Train Loss: 0.0153 | Val Loss: 0.0225\n",
      "Epoch 12 | Train Loss: 0.0141 | Val Loss: 0.0229\n",
      "Early stopping triggered at epoch 12\n"
     ]
    },
    {
     "data": {
      "image/png": "[encoded data removed]",
      "text/plain": [
       "<Figure size 640x480 with 1 Axes>"
      ]
     },
     "metadata": {},
     "output_type": "display_data"
    }
   ],
   "source": [
    "import os\n",
    "import pandas as pd\n",
    "import matplotlib.pyplot as plt\n",
    "\n",
    "train_losses = []\n",
    "val_losses = []\n",
    "\n",
    "# Early stopping parameters\n",
    "best_val_loss = float('inf')\n",
    "patience = 3\n",
    "counter = 0\n",
    "\n",
    "for epoch in range(50):  # You can increase this if needed\n",
    "    train_loss = train_epoch(model, train_loader)\n",
    "    val_loss = evaluate_loss(model, val_loader)\n",
    "\n",
    "    train_losses.append({\"epoch\": epoch + 1, \"loss\": train_loss})\n",
    "    val_losses.append({\"epoch\": epoch + 1, \"loss\": val_loss})\n",
    "\n",
    "    print(f\"Epoch {epoch+1} | Train Loss: {train_loss:.4f} | Val Loss: {val_loss:.4f}\")\n",
    "\n",
    "    # Early stopping logic\n",
    "    if val_loss < best_val_loss:\n",
    "        best_val_loss = val_loss\n",
    "        counter = 0\n",
    "        # Optionally save the best model\n",
    "        torch.save(model.state_dict(), \"outputs5/best_model.pt\")\n",
    "    else:\n",
    "        counter += 1\n",
    "        if counter >= patience:\n",
    "            print(f\"Early stopping triggered at epoch {epoch+1}\")\n",
    "            break\n",
    "\n",
    "# Save to CSV\n",
    "os.makedirs(\"outputs3\", exist_ok=True)\n",
    "pd.DataFrame(train_losses).to_csv(\"outputs5/train_loss.csv\", index=False)\n",
    "pd.DataFrame(val_losses).to_csv(\"outputs5/val_loss.csv\", index=False)\n",
    "\n",
    "# Plot both\n",
    "plt.plot([d['epoch'] for d in train_losses], [d['loss'] for d in train_losses], label='Train Loss')\n",
    "plt.plot([d['epoch'] for d in val_losses], [d['loss'] for d in val_losses], label='Val Loss')\n",
    "plt.title(\"Training vs Validation Loss\")\n",
    "plt.xlabel(\"Epoch\")\n",
    "plt.ylabel(\"Loss\")\n",
    "plt.legend()\n",
    "plt.grid(True)\n",
    "plt.savefig(\"outputs5/loss_comparison.png\")\n",
    "plt.show()"
   ]
  },
  {
   "cell_type": "code",
   "execution_count": 14,
   "id": "5ed11fd9-2bd0-46f9-8f81-275a728dde3a",
   "metadata": {},
   "outputs": [
    {
     "data": {
      "text/plain": [
       "('outputs5/apologetic_informal_rewriter_model_updated/tokenizer_config.json',\n",
       " 'outputs5/apologetic_informal_rewriter_model_updated/special_tokens_map.json',\n",
       " 'outputs5/apologetic_informal_rewriter_model_updated/spiece.model',\n",
       " 'outputs5/apologetic_informal_rewriter_model_updated/added_tokens.json')"
      ]
     },
     "execution_count": 14,
     "metadata": {},
     "output_type": "execute_result"
    }
   ],
   "source": [
    "model.save_pretrained(\"outputs5/apologetic_informal_rewriter_model_updated\")\n",
    "tokenizer.save_pretrained(\"outputs5/apologetic_informal_rewriter_model_updated\")"
   ]
  },
  {
   "cell_type": "code",
   "execution_count": 15,
   "id": "6de1ef74-213e-41c9-ac37-145568c52383",
   "metadata": {},
   "outputs": [
    {
     "name": "stdout",
     "output_type": "stream",
     "text": [
      "Formal: Hows that going\n"
     ]
    }
   ],
   "source": [
    "def rewrite_email(text):\n",
    "    input_text = \"Apologetic: \" + text\n",
    "    inputs = tokenizer(input_text, return_tensors=\"pt\", padding=True).to(device)\n",
    "    outputs = model.generate(**inputs, max_length=100)\n",
    "    return tokenizer.decode(outputs[0], skip_special_tokens=True)\n",
    "\n",
    "# Example\n",
    "informal_text = \"I sincerely apologize for the inconvenience. How are you doing\"\n",
    "print(\"Formal:\", rewrite_email(informal_text))\n"
   ]
  },
  {
   "cell_type": "code",
   "execution_count": 16,
   "id": "4718b045-5f3b-4f28-a437-efb2abfd02cf",
   "metadata": {},
   "outputs": [
    {
     "name": "stderr",
     "output_type": "stream",
     "text": [
      "[nltk_data] Downloading package punkt to /home/jupyter-\n",
      "[nltk_data]     st125404/nltk_data...\n",
      "[nltk_data]   Package punkt is already up-to-date!\n"
     ]
    }
   ],
   "source": [
    "import nltk\n",
    "from nltk.translate.bleu_score import sentence_bleu, SmoothingFunction\n",
    "from rouge_score import rouge_scorer\n",
    "\n",
    "nltk.download('punkt')\n",
    "\n",
    "smooth = SmoothingFunction().method4\n",
    "rouge = rouge_scorer.RougeScorer(['rouge1', 'rouge2', 'rougeL'], use_stemmer=True)\n"
   ]
  },
  {
   "cell_type": "code",
   "execution_count": 17,
   "id": "0d670001-117b-429b-b157-243d15491bd2",
   "metadata": {},
   "outputs": [],
   "source": [
    "def evaluate_model(model, tokenizer, dataset, num_samples=100):\n",
    "    model.eval()\n",
    "\n",
    "    bleu_scores = []\n",
    "    rouge1_scores = []\n",
    "    rouge2_scores = []\n",
    "    rougeL_scores = []\n",
    "\n",
    "    with torch.no_grad():\n",
    "        for i in range(min(num_samples, len(dataset))):\n",
    "            sample = dataset[i]\n",
    "            input_ids = sample['input_ids'].unsqueeze(0).to(device)\n",
    "            attention_mask = sample['attention_mask'].unsqueeze(0).to(device)\n",
    "\n",
    "            output = model.generate(input_ids=input_ids, attention_mask=attention_mask, max_length=100)\n",
    "            generated = tokenizer.decode(output[0], skip_special_tokens=True)\n",
    "\n",
    "            reference = tokenizer.decode(sample['labels'], skip_special_tokens=True)\n",
    "\n",
    "            # BLEU\n",
    "            ref_tokens = nltk.word_tokenize(reference)\n",
    "            gen_tokens = nltk.word_tokenize(generated)\n",
    "            bleu = sentence_bleu([ref_tokens], gen_tokens, smoothing_function=smooth)\n",
    "            bleu_scores.append(bleu)\n",
    "\n",
    "            # ROUGE\n",
    "            scores = rouge.score(generated, reference)\n",
    "            rouge1_scores.append(scores['rouge1'].fmeasure)\n",
    "            rouge2_scores.append(scores['rouge2'].fmeasure)\n",
    "            rougeL_scores.append(scores['rougeL'].fmeasure)\n",
    "\n",
    "    print(f\"BLEU Score: {sum(bleu_scores) / len(bleu_scores):.4f}\")\n",
    "    print(f\"ROUGE-1: {sum(rouge1_scores) / len(rouge1_scores):.4f}\")\n",
    "    print(f\"ROUGE-2: {sum(rouge2_scores) / len(rouge2_scores):.4f}\")\n",
    "    print(f\"ROUGE-L: {sum(rougeL_scores) / len(rougeL_scores):.4f}\")\n"
   ]
  },
  {
   "cell_type": "code",
   "execution_count": 18,
   "id": "e5478d8b-0923-47c5-a9e7-8a79767ba0b2",
   "metadata": {},
   "outputs": [
    {
     "data": {
      "text/plain": [
       "T5ForConditionalGeneration(\n",
       "  (shared): Embedding(32128, 768)\n",
       "  (encoder): T5Stack(\n",
       "    (embed_tokens): Embedding(32128, 768)\n",
       "    (block): ModuleList(\n",
       "      (0): T5Block(\n",
       "        (layer): ModuleList(\n",
       "          (0): T5LayerSelfAttention(\n",
       "            (SelfAttention): T5Attention(\n",
       "              (q): Linear(in_features=768, out_features=768, bias=False)\n",
       "              (k): Linear(in_features=768, out_features=768, bias=False)\n",
       "              (v): Linear(in_features=768, out_features=768, bias=False)\n",
       "              (o): Linear(in_features=768, out_features=768, bias=False)\n",
       "              (relative_attention_bias): Embedding(32, 12)\n",
       "            )\n",
       "            (layer_norm): T5LayerNorm()\n",
       "            (dropout): Dropout(p=0.1, inplace=False)\n",
       "          )\n",
       "          (1): T5LayerFF(\n",
       "            (DenseReluDense): T5DenseActDense(\n",
       "              (wi): Linear(in_features=768, out_features=3072, bias=False)\n",
       "              (wo): Linear(in_features=3072, out_features=768, bias=False)\n",
       "              (dropout): Dropout(p=0.1, inplace=False)\n",
       "              (act): ReLU()\n",
       "            )\n",
       "            (layer_norm): T5LayerNorm()\n",
       "            (dropout): Dropout(p=0.1, inplace=False)\n",
       "          )\n",
       "        )\n",
       "      )\n",
       "      (1-11): 11 x T5Block(\n",
       "        (layer): ModuleList(\n",
       "          (0): T5LayerSelfAttention(\n",
       "            (SelfAttention): T5Attention(\n",
       "              (q): Linear(in_features=768, out_features=768, bias=False)\n",
       "              (k): Linear(in_features=768, out_features=768, bias=False)\n",
       "              (v): Linear(in_features=768, out_features=768, bias=False)\n",
       "              (o): Linear(in_features=768, out_features=768, bias=False)\n",
       "            )\n",
       "            (layer_norm): T5LayerNorm()\n",
       "            (dropout): Dropout(p=0.1, inplace=False)\n",
       "          )\n",
       "          (1): T5LayerFF(\n",
       "            (DenseReluDense): T5DenseActDense(\n",
       "              (wi): Linear(in_features=768, out_features=3072, bias=False)\n",
       "              (wo): Linear(in_features=3072, out_features=768, bias=False)\n",
       "              (dropout): Dropout(p=0.1, inplace=False)\n",
       "              (act): ReLU()\n",
       "            )\n",
       "            (layer_norm): T5LayerNorm()\n",
       "            (dropout): Dropout(p=0.1, inplace=False)\n",
       "          )\n",
       "        )\n",
       "      )\n",
       "    )\n",
       "    (final_layer_norm): T5LayerNorm()\n",
       "    (dropout): Dropout(p=0.1, inplace=False)\n",
       "  )\n",
       "  (decoder): T5Stack(\n",
       "    (embed_tokens): Embedding(32128, 768)\n",
       "    (block): ModuleList(\n",
       "      (0): T5Block(\n",
       "        (layer): ModuleList(\n",
       "          (0): T5LayerSelfAttention(\n",
       "            (SelfAttention): T5Attention(\n",
       "              (q): Linear(in_features=768, out_features=768, bias=False)\n",
       "              (k): Linear(in_features=768, out_features=768, bias=False)\n",
       "              (v): Linear(in_features=768, out_features=768, bias=False)\n",
       "              (o): Linear(in_features=768, out_features=768, bias=False)\n",
       "              (relative_attention_bias): Embedding(32, 12)\n",
       "            )\n",
       "            (layer_norm): T5LayerNorm()\n",
       "            (dropout): Dropout(p=0.1, inplace=False)\n",
       "          )\n",
       "          (1): T5LayerCrossAttention(\n",
       "            (EncDecAttention): T5Attention(\n",
       "              (q): Linear(in_features=768, out_features=768, bias=False)\n",
       "              (k): Linear(in_features=768, out_features=768, bias=False)\n",
       "              (v): Linear(in_features=768, out_features=768, bias=False)\n",
       "              (o): Linear(in_features=768, out_features=768, bias=False)\n",
       "            )\n",
       "            (layer_norm): T5LayerNorm()\n",
       "            (dropout): Dropout(p=0.1, inplace=False)\n",
       "          )\n",
       "          (2): T5LayerFF(\n",
       "            (DenseReluDense): T5DenseActDense(\n",
       "              (wi): Linear(in_features=768, out_features=3072, bias=False)\n",
       "              (wo): Linear(in_features=3072, out_features=768, bias=False)\n",
       "              (dropout): Dropout(p=0.1, inplace=False)\n",
       "              (act): ReLU()\n",
       "            )\n",
       "            (layer_norm): T5LayerNorm()\n",
       "            (dropout): Dropout(p=0.1, inplace=False)\n",
       "          )\n",
       "        )\n",
       "      )\n",
       "      (1-11): 11 x T5Block(\n",
       "        (layer): ModuleList(\n",
       "          (0): T5LayerSelfAttention(\n",
       "            (SelfAttention): T5Attention(\n",
       "              (q): Linear(in_features=768, out_features=768, bias=False)\n",
       "              (k): Linear(in_features=768, out_features=768, bias=False)\n",
       "              (v): Linear(in_features=768, out_features=768, bias=False)\n",
       "              (o): Linear(in_features=768, out_features=768, bias=False)\n",
       "            )\n",
       "            (layer_norm): T5LayerNorm()\n",
       "            (dropout): Dropout(p=0.1, inplace=False)\n",
       "          )\n",
       "          (1): T5LayerCrossAttention(\n",
       "            (EncDecAttention): T5Attention(\n",
       "              (q): Linear(in_features=768, out_features=768, bias=False)\n",
       "              (k): Linear(in_features=768, out_features=768, bias=False)\n",
       "              (v): Linear(in_features=768, out_features=768, bias=False)\n",
       "              (o): Linear(in_features=768, out_features=768, bias=False)\n",
       "            )\n",
       "            (layer_norm): T5LayerNorm()\n",
       "            (dropout): Dropout(p=0.1, inplace=False)\n",
       "          )\n",
       "          (2): T5LayerFF(\n",
       "            (DenseReluDense): T5DenseActDense(\n",
       "              (wi): Linear(in_features=768, out_features=3072, bias=False)\n",
       "              (wo): Linear(in_features=3072, out_features=768, bias=False)\n",
       "              (dropout): Dropout(p=0.1, inplace=False)\n",
       "              (act): ReLU()\n",
       "            )\n",
       "            (layer_norm): T5LayerNorm()\n",
       "            (dropout): Dropout(p=0.1, inplace=False)\n",
       "          )\n",
       "        )\n",
       "      )\n",
       "    )\n",
       "    (final_layer_norm): T5LayerNorm()\n",
       "    (dropout): Dropout(p=0.1, inplace=False)\n",
       "  )\n",
       "  (lm_head): Linear(in_features=768, out_features=32128, bias=False)\n",
       ")"
      ]
     },
     "execution_count": 18,
     "metadata": {},
     "output_type": "execute_result"
    }
   ],
   "source": [
    "from transformers import T5ForConditionalGeneration, T5Tokenizer\n",
    "\n",
    "# model_path = \"outputs/formal_rewriter_model\"\n",
    "model_path = \"outputs5/apologetic_informal_rewriter_model_updated\"\n",
    "tokenizer = T5Tokenizer.from_pretrained(model_path)\n",
    "model = T5ForConditionalGeneration.from_pretrained(model_path).to(device)\n",
    "\n",
    "model.eval()  # Set to eval mode"
   ]
  },
  {
   "cell_type": "code",
   "execution_count": 19,
   "id": "0f873b02-4793-4d61-aa68-ddcda8586515",
   "metadata": {},
   "outputs": [
    {
     "name": "stderr",
     "output_type": "stream",
     "text": [
      "[nltk_data] Downloading package punkt_tab to /home/jupyter-\n",
      "[nltk_data]     st125404/nltk_data...\n",
      "[nltk_data]   Package punkt_tab is already up-to-date!\n"
     ]
    },
    {
     "data": {
      "text/plain": [
       "True"
      ]
     },
     "execution_count": 19,
     "metadata": {},
     "output_type": "execute_result"
    }
   ],
   "source": [
    "import nltk\n",
    "\n",
    "nltk.download('punkt_tab')"
   ]
  },
  {
   "cell_type": "code",
   "execution_count": 20,
   "id": "31d70dd8-2bba-4c25-9f97-aee57f083f34",
   "metadata": {},
   "outputs": [
    {
     "name": "stdout",
     "output_type": "stream",
     "text": [
      "BLEU Score: 0.8874\n",
      "ROUGE-1: 0.9474\n",
      "ROUGE-2: 0.9256\n",
      "ROUGE-L: 0.9474\n"
     ]
    }
   ],
   "source": [
    "evaluate_model(model, tokenizer, test_dataset, num_samples=100)\n"
   ]
  },
  {
   "cell_type": "code",
   "execution_count": null,
   "id": "14c1a2a9-fbf6-40bc-9958-889a9e4c0968",
   "metadata": {},
   "outputs": [],
   "source": []
  },
  {
   "cell_type": "code",
   "execution_count": null,
   "id": "8d306aad-048c-4eb6-a016-a380f399eaa2",
   "metadata": {},
   "outputs": [],
   "source": []
  }
 ],
 "metadata": {
  "kernelspec": {
   "display_name": "Python 3 (ipykernel)",
   "language": "python",
   "name": "python3"
  },
  "language_info": {
   "codemirror_mode": {
    "name": "ipython",
    "version": 3
   },
   "file_extension": ".py",
   "mimetype": "text/x-python",
   "name": "python",
   "nbconvert_exporter": "python",
   "pygments_lexer": "ipython3",
   "version": "3.12.6"
  }
 },
 "nbformat": 4,
 "nbformat_minor": 5
}
